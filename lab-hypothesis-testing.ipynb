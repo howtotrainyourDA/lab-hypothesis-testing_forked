{
 "cells": [
  {
   "cell_type": "markdown",
   "metadata": {},
   "source": [
    "# Lab | Hypothesis Testing"
   ]
  },
  {
   "cell_type": "markdown",
   "metadata": {},
   "source": [
    "**Objective**\n",
    "\n",
    "Welcome to the Hypothesis Testing Lab, where we embark on an enlightening journey through the realm of statistical decision-making! In this laboratory, we delve into various scenarios, applying the powerful tools of hypothesis testing to scrutinize and interpret data.\n",
    "\n",
    "From testing the mean of a single sample (One Sample T-Test), to investigating differences between independent groups (Two Sample T-Test), and exploring relationships within dependent samples (Paired Sample T-Test), our exploration knows no bounds. Furthermore, we'll venture into the realm of Analysis of Variance (ANOVA), unraveling the complexities of comparing means across multiple groups.\n",
    "\n",
    "So, grab your statistical tools, prepare your hypotheses, and let's embark on this fascinating journey of exploration and discovery in the world of hypothesis testing!"
   ]
  },
  {
   "cell_type": "markdown",
   "metadata": {},
   "source": [
    "**Challenge 1**"
   ]
  },
  {
   "cell_type": "markdown",
   "metadata": {},
   "source": [
    "In this challenge, we will be working with pokemon data. The data can be found here:\n",
    "\n",
    "- https://raw.githubusercontent.com/data-bootcamp-v4/data/main/pokemon.csv"
   ]
  },
  {
   "cell_type": "code",
   "execution_count": null,
   "metadata": {},
   "outputs": [],
   "source": [
    "#libraries\n",
    "import pandas as pd\n",
    "import scipy.stats as st\n",
    "import numpy as np\n",
    "\n"
   ]
  },
  {
   "cell_type": "code",
   "execution_count": null,
   "metadata": {},
   "outputs": [],
   "source": [
    "df = pd.read_csv(\"https://raw.githubusercontent.com/data-bootcamp-v4/data/main/pokemon.csv\")\n",
    "df"
   ]
  },
  {
   "cell_type": "markdown",
   "metadata": {},
   "source": [
    "- We posit that Pokemons of type Dragon have, on average, more HP stats than Grass. Choose the propper test and, with 5% significance, comment your findings."
   ]
  },
  {
   "cell_type": "code",
   "execution_count": null,
   "metadata": {},
   "outputs": [],
   "source": [
    "#code here\n",
    "df.columns = df.columns.str.lower().str.replace(\" \", \"_\")\n",
    "df.columns = df.columns.str.replace(\".\", \"_\")\n",
    "df"
   ]
  },
  {
   "cell_type": "code",
   "execution_count": null,
   "metadata": {},
   "outputs": [],
   "source": [
    "# Select the HP data for Dragon and Grass Pokémon\n",
    "dragon_hp = df[(df[\"type_1\"] == \"Dragon\") | (df[\"type_2\"] == \"Dragon\")][\"hp\"]\n",
    "grass_hp = df[(df[\"type_1\"] == \"Grass\") | (df[\"type_2\"] == \"Grass\")][\"hp\"]\n",
    "\n",
    "# Perform t-test\n",
    "t_statistic, p_value = st.ttest_ind(dragon_hp, grass_hp, equal_var=True, alternative=\"greater\")\n",
    "\n",
    "# Print the p-value\n",
    "print(f\"p-value: {p_value}\")\n",
    "\n",
    "# Hypothesis testing decision\n",
    "if p_value < 0.05:\n",
    "    print(\"Reject the null hypothesis\")\n",
    "else:\n",
    "    print(\"Fail to reject the null hypothesis\")\n"
   ]
  },
  {
   "cell_type": "markdown",
   "metadata": {},
   "source": [
    "- We posit that Legendary Pokemons have different stats (HP, Attack, Defense, Sp.Atk, Sp.Def, Speed) when comparing with Non-Legendary. Choose the propper test and, with 5% significance, comment your findings.\n"
   ]
  },
  {
   "cell_type": "code",
   "execution_count": null,
   "metadata": {},
   "outputs": [],
   "source": [
    "#code here\n",
    "\n",
    "legendary_stats = df[df[\"legendary\"] == \"True\"][[\"hp\", \"attack\", \"defense\", \"sp__atk\", \"sp__def\", \"speed\"]]\n",
    "non_legendary_stats = df[df[\"legendary\"] == \"False\"][[\"hp\", \"attack\", \"defense\", \"sp__atk\", \"sp__def\", \"speed\"]]\n",
    "\n",
    "\n",
    "st.ttest_ind(legendary_stats, non_legendary_stats, equal_var=True, alternative=\"two-sided\")\n",
    "\n",
    "print(f\"p-value: {p_value}\")\n",
    "\n",
    "\n",
    "if p_value < 0.05:\n",
    "    print(\"legendaries op\")\n",
    "else:\n",
    "    print(\"water type pokemon are best\")"
   ]
  },
  {
   "cell_type": "markdown",
   "metadata": {},
   "source": [
    "**Challenge 2**"
   ]
  },
  {
   "cell_type": "markdown",
   "metadata": {},
   "source": [
    "In this challenge, we will be working with california-housing data. The data can be found here:\n",
    "- https://raw.githubusercontent.com/data-bootcamp-v4/data/main/california_housing.csv"
   ]
  },
  {
   "cell_type": "code",
   "execution_count": null,
   "metadata": {},
   "outputs": [],
   "source": [
    "df = pd.read_csv(\"https://raw.githubusercontent.com/data-bootcamp-v4/data/main/california_housing.csv\")\n",
    "df.head()"
   ]
  },
  {
   "cell_type": "markdown",
   "metadata": {},
   "source": [
    "**We posit that houses close to either a school or a hospital are more expensive.**\n",
    "\n",
    "- School coordinates (-118, 37)\n",
    "- Hospital coordinates (-122, 34)\n",
    "\n",
    "We consider a house (neighborhood) to be close to a school or hospital if the distance is lower than 0.50.\n",
    "\n",
    "Hint:\n",
    "- Write a function to calculate euclidean distance from each house (neighborhood) to the school and to the hospital.\n",
    "- Divide your dataset into houses close and far from either a hospital or school.\n",
    "- Choose the propper test and, with 5% significance, comment your findings.\n",
    " "
   ]
  },
  {
   "cell_type": "code",
   "execution_count": null,
   "metadata": {},
   "outputs": [],
   "source": []
  },
  {
   "cell_type": "code",
   "execution_count": null,
   "metadata": {},
   "outputs": [],
   "source": []
  },
  {
   "cell_type": "code",
   "execution_count": null,
   "metadata": {},
   "outputs": [],
   "source": []
  },
  {
   "cell_type": "code",
   "execution_count": null,
   "metadata": {},
   "outputs": [],
   "source": []
  },
  {
   "cell_type": "code",
   "execution_count": null,
   "metadata": {},
   "outputs": [],
   "source": [
    "import numpy as np\n",
    "import pandas as pd\n",
    "import scipy.stats as st\n",
    "\n",
    "# Define coordinates for school and hospital\n",
    "school_coords = (-118, 37)\n",
    "hospital_coords = (-122, 34)\n",
    "\n",
    "# Define the Euclidean distance function\n",
    "def euclidean_distance(x1, y1, x2, y2):\n",
    "    return np.sqrt((x2 - x1)**2 + (y2 - y1)**2)\n",
    "\n",
    "# Assuming your DataFrame is called df\n",
    "df = pd.DataFrame({\n",
    "    'longitude': [-114.31, -114.47, -114.56, -114.57, -114.57],\n",
    "    'latitude': [34.19, 34.40, 33.69, 33.64, 33.57],\n",
    "    'housing_median_age': [15.0, 19.0, 17.0, 14.0, 20.0],\n",
    "    'total_rooms': [5612.0, 7650.0, 720.0, 1501.0, 1454.0],\n",
    "    'total_bedrooms': [1283.0, 1901.0, 174.0, 337.0, 326.0],\n",
    "    'population': [1015.0, 1129.0, 333.0, 515.0, 624.0],\n",
    "    'households': [472.0, 463.0, 117.0, 226.0, 262.0],\n",
    "    'median_income': [1.4936, 1.8200, 1.6509, 3.1917, 1.9250],\n",
    "    'median_house_value': [66900.0, 80100.0, 85700.0, 73400.0, 65500.0]\n",
    "})\n",
    "\n",
    "# Calculate the distance to school and hospital for each house\n",
    "df['distance_to_school'] = df.apply(lambda row: euclidean_distance(row['longitude'], row['latitude'], *school_coords), axis=1)\n",
    "df['distance_to_hospital'] = df.apply(lambda row: euclidean_distance(row['longitude'], row['latitude'], *hospital_coords), axis=1)\n",
    "\n",
    "# Define a house as \"close\" if the distance is less than 0.50 to either school or hospital\n",
    "df['close_to_school_or_hospital'] = (df['distance_to_school'] < 0.50) | (df['distance_to_hospital'] < 0.50)\n",
    "\n",
    "# Separate houses into two groups: close and far\n",
    "close_houses = df[df['close_to_school_or_hospital'] == True]\n",
    "far_houses = df[df['close_to_school_or_hospital'] == False]\n",
    "\n",
    "# Show the first few rows to confirm\n",
    "print(df[['longitude', 'latitude', 'distance_to_school', 'distance_to_hospital', 'close_to_school_or_hospital']].head())\n"
   ]
  },
  {
   "cell_type": "code",
   "execution_count": null,
   "metadata": {},
   "outputs": [],
   "source": [
    "# Perform t-test on the median house value for the two groups\n",
    "t_statistic, p_value = st.ttest_ind(close_houses['median_house_value'], far_houses['median_house_value'], equal_var=False, alternative=\"greater\")\n",
    "\n",
    "# Print the p-value\n",
    "print(f\"p-value: {p_value}\")\n",
    "\n",
    "# Hypothesis testing decision\n",
    "if p_value < 0.05:\n",
    "    print(\"Reject the null hypothesis: Houses close to a school or hospital are more expensive.\")\n",
    "else:\n",
    "    print(\"Fail to reject the null hypothesis: There is no significant difference in house prices between the two groups.\")\n"
   ]
  }
 ],
 "metadata": {
  "kernelspec": {
   "display_name": "Python 3",
   "language": "python",
   "name": "python3"
  },
  "language_info": {
   "codemirror_mode": {
    "name": "ipython",
    "version": 3
   },
   "file_extension": ".py",
   "mimetype": "text/x-python",
   "name": "python",
   "nbconvert_exporter": "python",
   "pygments_lexer": "ipython3",
   "version": "3.12.6"
  }
 },
 "nbformat": 4,
 "nbformat_minor": 2
}
